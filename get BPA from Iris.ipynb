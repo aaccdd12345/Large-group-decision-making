{
 "cells": [
  {
   "cell_type": "code",
   "execution_count": 95,
   "metadata": {},
   "outputs": [
    {
     "name": "stdout",
     "output_type": "stream",
     "text": [
      "[5.1 4.9 4.7 4.6 5.0 5.4 4.6 5.0 4.4 4.9 5.4 4.8 4.8 4.3 5.8 5.7 5.4 5.1\n",
      " 5.7 5.1 5.4 5.1 4.6 5.1 4.8 5.0 5.0 5.2 5.2 4.7 4.8 5.4 5.2 5.5 4.9 5.0\n",
      " 5.5 4.9 4.4 5.1 5.0 4.5 4.4 5.0 5.1 4.8 5.1 4.6 5.3 5.0]\n",
      "4.3 5.01 5.8\n"
     ]
    }
   ],
   "source": [
    "import matplotlib.pyplot as plt\n",
    "import pandas as pd\n",
    "import numpy as np\n",
    "import math\n",
    "inputfile = r'D:\\iris.csv'               \n",
    "data = pd.read_csv(inputfile)\n",
    "data=np.array(data)\n",
    "print(data[:50,0])\n",
    "setosa_SL=data[:50,0]\n",
    "versicolor_SL=data[50:100,0]\n",
    "virginica_SL=data[100:150,0]\n",
    "max_set=max(setosa_SL)\n",
    "min_set=min(setosa_SL)\n",
    "avr_set=round(sum(setosa_SL)/50,2)\n",
    "print(min_set,avr_set,max_set)\n",
    "pd.set_option('display.max_columns', 1000)\n",
    "pd.set_option('display.width', 1000)\n",
    "pd.set_option('display.max_colwidth', 1000)"
   ]
  },
  {
   "cell_type": "code",
   "execution_count": 131,
   "metadata": {},
   "outputs": [
    {
     "name": "stdout",
     "output_type": "stream",
     "text": [
      "            0\n",
      "0    0.886076\n",
      "1    0.845070\n",
      "2    0.563380\n",
      "3    0.422535\n",
      "4    0.985915\n",
      "..        ...\n",
      "145  0.000000\n",
      "146  0.000000\n",
      "147  0.000000\n",
      "148  0.000000\n",
      "149  0.000000\n",
      "\n",
      "[150 rows x 1 columns]\n"
     ]
    }
   ],
   "source": [
    "max_ver=max(versicolor_SL)\n",
    "min_ver=min(versicolor_SL)\n",
    "avr_ver=round(sum(versicolor_SL)/50,2)\n",
    "max_vir=max(virginica_SL)\n",
    "min_vir=min(virginica_SL)\n",
    "avr_vir=round(sum(virginica_SL)/50,2)\n",
    "temp=[]\n",
    "for x in data[:,0]:\n",
    "    if x>=min_set and x<avr_set:\n",
    "        temp.append((x-min_set)/(avr_set-min_set))\n",
    "    elif x<=max_set and x>=avr_set:\n",
    "        temp.append((max_set-x)/(max_set-avr_set))\n",
    "    else:\n",
    "        temp.append(0)\n",
    "temp=pd.DataFrame(temp)\n",
    "print(temp)"
   ]
  },
  {
   "cell_type": "code",
   "execution_count": 28,
   "metadata": {},
   "outputs": [
    {
     "name": "stdout",
     "output_type": "stream",
     "text": [
      "4.9 5.29 5.7\n"
     ]
    }
   ],
   "source": [
    "temp=[]\n",
    "for x in data[:,0]:\n",
    "    if x>=min_ver and x<max_set:\n",
    "        temp.append(x)\n",
    "max_setver=max(temp)\n",
    "min_setver=min(temp)\n",
    "avr_setver=round((sum(temp)/len(temp)),2)\n",
    "print(min_setver,avr_setver,max_setver)"
   ]
  },
  {
   "cell_type": "code",
   "execution_count": 29,
   "metadata": {},
   "outputs": [
    {
     "name": "stdout",
     "output_type": "stream",
     "text": [
      "4.9 5.29 5.7\n"
     ]
    }
   ],
   "source": [
    "temp.clear()\n",
    "for x in data[:,0]:\n",
    "    if x>=min_vir and x<max_set:\n",
    "        temp.append(x)\n",
    "max_setvir=max(temp)\n",
    "min_setvir=min(temp)\n",
    "avr_setvir=round((sum(temp)/len(temp)),2)\n",
    "print(min_setvir,avr_setvir,max_setvir)"
   ]
  },
  {
   "cell_type": "code",
   "execution_count": 30,
   "metadata": {},
   "outputs": [
    {
     "name": "stdout",
     "output_type": "stream",
     "text": [
      "4.9 5.29 5.7\n"
     ]
    }
   ],
   "source": [
    "temp.clear()\n",
    "for x in data[:,0]:\n",
    "    if x>=min_vir and x<max_set:\n",
    "        temp.append(x)\n",
    "max_all=max(temp)\n",
    "min_all=min(temp)\n",
    "avr_all=round((sum(temp)/len(temp)),2)\n",
    "print(min_all,avr_all,max_all)"
   ]
  },
  {
   "cell_type": "code",
   "execution_count": 31,
   "metadata": {},
   "outputs": [
    {
     "name": "stdout",
     "output_type": "stream",
     "text": [
      "4.9 5.98 7.7\n"
     ]
    }
   ],
   "source": [
    "temp.clear()\n",
    "for x in data[:,0]:\n",
    "    if x>=min_ver and x<max_vir:\n",
    "        temp.append(x)\n",
    "max_vervir=max(temp)\n",
    "min_vervir=min(temp)\n",
    "avr_vervir=round((sum(temp)/len(temp)),2)\n",
    "print(min_vervir,avr_vervir,max_vervir)"
   ]
  },
  {
   "cell_type": "code",
   "execution_count": 134,
   "metadata": {},
   "outputs": [
    {
     "name": "stdout",
     "output_type": "stream",
     "text": [
      "            0          0\n",
      "0    0.886076   0.192308\n",
      "1    0.845070          0\n",
      "2    0.563380          0\n",
      "3    0.422535          0\n",
      "4    0.985915  0.0961538\n",
      "..        ...        ...\n",
      "145  0.000000   0.283019\n",
      "146  0.000000   0.660377\n",
      "147  0.000000   0.471698\n",
      "148  0.000000   0.754717\n",
      "149  0.000000   0.961538\n",
      "\n",
      "[150 rows x 2 columns]\n"
     ]
    }
   ],
   "source": [
    "temp1=[]\n",
    "for x in data[:,0]:\n",
    "    if x>=min_ver and x<avr_ver:\n",
    "        temp1.append((x-min_ver)/(avr_ver-min_ver))\n",
    "    elif x<=max_ver and x>=avr_ver:\n",
    "        temp1.append((max_ver-x)/(max_ver-avr_ver))\n",
    "    else:\n",
    "        temp1.append('0')\n",
    "temp1=pd.DataFrame(temp1)\n",
    "result=pd.concat([temp,temp1],axis=1)\n",
    "print(result)"
   ]
  },
  {
   "cell_type": "code",
   "execution_count": 136,
   "metadata": {},
   "outputs": [
    {
     "name": "stdout",
     "output_type": "stream",
     "text": [
      "            0          0          0\n",
      "0    0.886076   0.192308   0.118343\n",
      "1    0.845070          0          0\n",
      "2    0.563380          0          0\n",
      "3    0.422535          0          0\n",
      "4    0.985915  0.0961538  0.0591716\n",
      "..        ...        ...        ...\n",
      "145  0.000000   0.283019   0.916031\n",
      "146  0.000000   0.660377   0.828402\n",
      "147  0.000000   0.471698   0.946746\n",
      "148  0.000000   0.754717   0.769231\n",
      "149  0.000000   0.961538   0.591716\n",
      "\n",
      "[150 rows x 3 columns]\n"
     ]
    }
   ],
   "source": [
    "temp2=[]\n",
    "for x in data[:,0]:\n",
    "    if x>=min_vir and x<avr_vir:\n",
    "        temp2.append((x-min_vir)/(avr_vir-min_vir))\n",
    "    elif x<=max_vir and x>=avr_vir:\n",
    "        temp2.append((max_vir-x)/(max_vir-avr_vir))\n",
    "    else:\n",
    "        temp2.append('0')\n",
    "temp2=pd.DataFrame(temp2)\n",
    "result1=pd.concat([result,temp2],axis=1)\n",
    "print(result1)"
   ]
  },
  {
   "cell_type": "code",
   "execution_count": 137,
   "metadata": {},
   "outputs": [
    {
     "name": "stdout",
     "output_type": "stream",
     "text": [
      "            0          0          0         0\n",
      "0    0.886076   0.192308   0.118343  0.512821\n",
      "1    0.845070          0          0         0\n",
      "2    0.563380          0          0         0\n",
      "3    0.422535          0          0         0\n",
      "4    0.985915  0.0961538  0.0591716   0.25641\n",
      "..        ...        ...        ...       ...\n",
      "145  0.000000   0.283019   0.916031         0\n",
      "146  0.000000   0.660377   0.828402         0\n",
      "147  0.000000   0.471698   0.946746         0\n",
      "148  0.000000   0.754717   0.769231         0\n",
      "149  0.000000   0.961538   0.591716         0\n",
      "\n",
      "[150 rows x 4 columns]\n"
     ]
    }
   ],
   "source": [
    "temp3=[]\n",
    "for x in data[:,0]:\n",
    "    if x>=min_setver and x<avr_setver:\n",
    "        temp3.append((x-min_setver)/(avr_setver-min_setver))\n",
    "    elif x<=max_setver and x>=avr_setver:\n",
    "        temp3.append((max_setver-x)/(max_setver-avr_setver))\n",
    "    else:\n",
    "        temp3.append('0')\n",
    "temp3=pd.DataFrame(temp3)\n",
    "result2=pd.concat([result1,temp3],axis=1)\n",
    "print(result2)"
   ]
  },
  {
   "cell_type": "code",
   "execution_count": 139,
   "metadata": {},
   "outputs": [
    {
     "name": "stdout",
     "output_type": "stream",
     "text": [
      "            0          0          0         0         0\n",
      "0    0.886076   0.192308   0.118343  0.512821  0.512821\n",
      "1    0.845070          0          0         0         0\n",
      "2    0.563380          0          0         0         0\n",
      "3    0.422535          0          0         0         0\n",
      "4    0.985915  0.0961538  0.0591716   0.25641   0.25641\n",
      "..        ...        ...        ...       ...       ...\n",
      "145  0.000000   0.283019   0.916031         0         0\n",
      "146  0.000000   0.660377   0.828402         0         0\n",
      "147  0.000000   0.471698   0.946746         0         0\n",
      "148  0.000000   0.754717   0.769231         0         0\n",
      "149  0.000000   0.961538   0.591716         0         0\n",
      "\n",
      "[150 rows x 5 columns]\n"
     ]
    }
   ],
   "source": [
    "temp4=[]\n",
    "for x in data[:,0]:\n",
    "    if x>=min_setvir and x<avr_setvir:\n",
    "        temp4.append((x-min_setvir)/(avr_setvir-min_setvir))\n",
    "    elif x<=max_setvir and x>=avr_setvir:\n",
    "        temp4.append((max_setvir-x)/(max_setvir-avr_setvir))\n",
    "    else:\n",
    "        temp4.append('0')\n",
    "temp4=pd.DataFrame(temp4)\n",
    "result3=pd.concat([result2,temp4],axis=1)\n",
    "print(result3)"
   ]
  },
  {
   "cell_type": "code",
   "execution_count": 140,
   "metadata": {},
   "outputs": [
    {
     "name": "stdout",
     "output_type": "stream",
     "text": [
      "            0          0          0         0         0          0\n",
      "0    0.886076   0.192308   0.118343  0.512821  0.512821   0.185185\n",
      "1    0.845070          0          0         0         0          0\n",
      "2    0.563380          0          0         0         0          0\n",
      "3    0.422535          0          0         0         0          0\n",
      "4    0.985915  0.0961538  0.0591716   0.25641   0.25641  0.0925926\n",
      "..        ...        ...        ...       ...       ...        ...\n",
      "145  0.000000   0.283019   0.916031         0         0          0\n",
      "146  0.000000   0.660377   0.828402         0         0          0\n",
      "147  0.000000   0.471698   0.946746         0         0          0\n",
      "148  0.000000   0.754717   0.769231         0         0          0\n",
      "149  0.000000   0.961538   0.591716         0         0   0.925926\n",
      "\n",
      "[150 rows x 6 columns]\n"
     ]
    }
   ],
   "source": [
    "temp5=[]\n",
    "for x in data[:,0]:\n",
    "    if x>=min_vervir and x<avr_vervir:\n",
    "        temp5.append((x-min_vervir)/(avr_vervir-min_vervir))\n",
    "    elif x<=max_setvir and x>=avr_setvir:\n",
    "        temp5.append((max_vervir-x)/(max_vervir-avr_vervir))\n",
    "    else:\n",
    "        temp5.append('0')\n",
    "temp5=pd.DataFrame(temp5)\n",
    "result4=pd.concat([result3,temp5],axis=1)\n",
    "print(result4)"
   ]
  },
  {
   "cell_type": "code",
   "execution_count": 141,
   "metadata": {},
   "outputs": [
    {
     "name": "stdout",
     "output_type": "stream",
     "text": [
      "            0          0          0         0         0          0         0\n",
      "0    0.886076   0.192308   0.118343  0.512821  0.512821   0.185185  0.512821\n",
      "1    0.845070          0          0         0         0          0         0\n",
      "2    0.563380          0          0         0         0          0         0\n",
      "3    0.422535          0          0         0         0          0         0\n",
      "4    0.985915  0.0961538  0.0591716   0.25641   0.25641  0.0925926   0.25641\n",
      "..        ...        ...        ...       ...       ...        ...       ...\n",
      "145  0.000000   0.283019   0.916031         0         0          0         0\n",
      "146  0.000000   0.660377   0.828402         0         0          0         0\n",
      "147  0.000000   0.471698   0.946746         0         0          0         0\n",
      "148  0.000000   0.754717   0.769231         0         0          0         0\n",
      "149  0.000000   0.961538   0.591716         0         0   0.925926         0\n",
      "\n",
      "[150 rows x 7 columns]\n"
     ]
    }
   ],
   "source": [
    "temp6=[]\n",
    "for x in data[:,0]:\n",
    "    if x>=min_all and x<avr_all:\n",
    "        temp6.append((x-min_all)/(avr_all-min_all))\n",
    "    elif x<=max_all and x>=avr_all:\n",
    "        temp6.append((max_all-x)/(max_all-avr_all))\n",
    "    else:\n",
    "        temp6.append('0')\n",
    "temp6=pd.DataFrame(temp6)\n",
    "result5=pd.concat([result4,temp6],axis=1)\n",
    "print(result5)"
   ]
  },
  {
   "cell_type": "code",
   "execution_count": 159,
   "metadata": {},
   "outputs": [],
   "source": [
    "result5.to_excel('bpa.xlsx')"
   ]
  },
  {
   "cell_type": "code",
   "execution_count": null,
   "metadata": {},
   "outputs": [],
   "source": []
  }
 ],
 "metadata": {
  "kernelspec": {
   "display_name": "Python 3",
   "language": "python",
   "name": "python3"
  },
  "language_info": {
   "codemirror_mode": {
    "name": "ipython",
    "version": 3
   },
   "file_extension": ".py",
   "mimetype": "text/x-python",
   "name": "python",
   "nbconvert_exporter": "python",
   "pygments_lexer": "ipython3",
   "version": "3.8.5"
  }
 },
 "nbformat": 4,
 "nbformat_minor": 4
}
